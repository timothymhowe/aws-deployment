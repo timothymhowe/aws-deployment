{
 "cells": [
  {
   "cell_type": "code",
   "execution_count": 3,
   "metadata": {
    "collapsed": true,
    "pycharm": {
     "name": "#%%\n"
    }
   },
   "outputs": [],
   "source": [
    "import pandas as pd\n",
    "import numpy as np\n",
    "from sklearn.decomposition import PCA\n",
    "# from sklearn.covariance import\n",
    "# from sklearn.feature_extraction import"
   ]
  },
  {
   "cell_type": "code",
   "execution_count": 5,
   "outputs": [
    {
     "name": "stdout",
     "output_type": "stream",
     "text": [
      "Collecting package metadata (current_repodata.json): done\r\n",
      "Solving environment: done\r\n",
      "\r\n",
      "## Package Plan ##\r\n",
      "\r\n",
      "  environment location: /home/thowe/anaconda3/envs/aws-dev\r\n",
      "\r\n",
      "  added / updated specs:\r\n",
      "    - matplotlib\r\n",
      "    - plotly\r\n",
      "    - seaborn\r\n",
      "\r\n",
      "\r\n",
      "The following NEW packages will be INSTALLED:\r\n",
      "\r\n",
      "  brotli             conda-forge/linux-64::brotli-1.0.9-h166bdaf_7\r\n",
      "  brotli-bin         conda-forge/linux-64::brotli-bin-1.0.9-h166bdaf_7\r\n",
      "  cycler             conda-forge/noarch::cycler-0.11.0-pyhd8ed1ab_0\r\n",
      "  fonttools          conda-forge/linux-64::fonttools-4.34.4-py38h0a891b7_0\r\n",
      "  giflib             conda-forge/linux-64::giflib-5.2.1-h36c2ea0_2\r\n",
      "  kiwisolver         conda-forge/linux-64::kiwisolver-1.4.4-py38h43d8883_0\r\n",
      "  lcms2              conda-forge/linux-64::lcms2-2.12-hddcbb42_0\r\n",
      "  lerc               conda-forge/linux-64::lerc-4.0.0-h27087fc_0\r\n",
      "  libbrotlicommon    conda-forge/linux-64::libbrotlicommon-1.0.9-h166bdaf_7\r\n",
      "  libbrotlidec       conda-forge/linux-64::libbrotlidec-1.0.9-h166bdaf_7\r\n",
      "  libbrotlienc       conda-forge/linux-64::libbrotlienc-1.0.9-h166bdaf_7\r\n",
      "  libdeflate         conda-forge/linux-64::libdeflate-1.13-h166bdaf_0\r\n",
      "  libtiff            conda-forge/linux-64::libtiff-4.4.0-h0e0dad5_3\r\n",
      "  libwebp            conda-forge/linux-64::libwebp-1.2.3-h522a892_1\r\n",
      "  libwebp-base       conda-forge/linux-64::libwebp-base-1.2.3-h166bdaf_2\r\n",
      "  matplotlib         conda-forge/linux-64::matplotlib-3.5.2-py38h578d9bd_1\r\n",
      "  matplotlib-base    conda-forge/linux-64::matplotlib-base-3.5.2-py38h826bfd8_1\r\n",
      "  munkres            conda-forge/noarch::munkres-1.1.4-pyh9f0ad1d_0\r\n",
      "  openjpeg           conda-forge/linux-64::openjpeg-2.4.0-hb52868f_1\r\n",
      "  patsy              conda-forge/noarch::patsy-0.5.2-pyhd8ed1ab_0\r\n",
      "  pillow             conda-forge/linux-64::pillow-9.2.0-py38h0ee0e06_0\r\n",
      "  plotly             conda-forge/noarch::plotly-5.9.0-pyhd8ed1ab_0\r\n",
      "  seaborn            conda-forge/noarch::seaborn-0.11.2-hd8ed1ab_0\r\n",
      "  seaborn-base       conda-forge/noarch::seaborn-base-0.11.2-pyhd8ed1ab_0\r\n",
      "  statsmodels        conda-forge/linux-64::statsmodels-0.13.2-py38h71d37f0_0\r\n",
      "  tenacity           conda-forge/noarch::tenacity-8.0.1-pyhd8ed1ab_0\r\n",
      "  unicodedata2       conda-forge/linux-64::unicodedata2-14.0.0-py38h0a891b7_1\r\n",
      "\r\n",
      "\r\n",
      "Preparing transaction: done\r\n",
      "Verifying transaction: done\r\n",
      "Executing transaction: done\r\n"
     ]
    }
   ],
   "source": [
    "import sys\n",
    "!conda install --yes --prefix {sys.prefix} matplotlib plotly seaborn\n"
   ],
   "metadata": {
    "collapsed": false,
    "pycharm": {
     "name": "#%%\n"
    }
   }
  },
  {
   "cell_type": "code",
   "execution_count": null,
   "outputs": [],
   "source": [],
   "metadata": {
    "collapsed": false,
    "pycharm": {
     "name": "#%%\n"
    }
   }
  }
 ],
 "metadata": {
  "kernelspec": {
   "name": "aws-dev",
   "language": "python",
   "display_name": "AWS Dev"
  },
  "language_info": {
   "codemirror_mode": {
    "name": "ipython",
    "version": 2
   },
   "file_extension": ".py",
   "mimetype": "text/x-python",
   "name": "python",
   "nbconvert_exporter": "python",
   "pygments_lexer": "ipython2",
   "version": "2.7.6"
  }
 },
 "nbformat": 4,
 "nbformat_minor": 0
}